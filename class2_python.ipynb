{
 "cells": [
  {
   "cell_type": "code",
   "execution_count": 7,
   "id": "83db61ba",
   "metadata": {},
   "outputs": [
    {
     "data": {
      "text/plain": [
       "'\\naddition \\ndivision\\nmultiplication\\nsoustration\\n'"
      ]
     },
     "execution_count": 7,
     "metadata": {},
     "output_type": "execute_result"
    }
   ],
   "source": [
    "\"\"\"\n",
    "addition \n",
    "division\n",
    "multiplication\n",
    "soustration\n",
    "\"\"\""
   ]
  },
  {
   "cell_type": "code",
   "execution_count": 2,
   "id": "8a85ae9b",
   "metadata": {},
   "outputs": [],
   "source": [
    "a=5\n",
    "b= 3"
   ]
  },
  {
   "cell_type": "code",
   "execution_count": 3,
   "id": "66ceca33",
   "metadata": {},
   "outputs": [
    {
     "name": "stdout",
     "output_type": "stream",
     "text": [
      "8\n",
      "2\n",
      "15\n",
      "1.6666666666666667\n",
      "2\n",
      "125\n",
      "1\n"
     ]
    }
   ],
   "source": [
    "print(a+b)\n",
    "print(a-b)\n",
    "print(a*b)\n",
    "print(a/b)\n",
    "print(a%b) # modulus give rem\n",
    "print(a**b)\n",
    "print(a//b) # floor division  -- give quotien (natural number)"
   ]
  },
  {
   "cell_type": "code",
   "execution_count": 12,
   "id": "c7ba0dca",
   "metadata": {},
   "outputs": [
    {
     "name": "stdout",
     "output_type": "stream",
     "text": [
      "8\n"
     ]
    }
   ],
   "source": [
    "# assignement operator : \n",
    "x = 5\n",
    " # x+=3 x-=3\n",
    "x=x+3\n",
    "print(x)"
   ]
  },
  {
   "cell_type": "code",
   "execution_count": 16,
   "id": "65978e18",
   "metadata": {},
   "outputs": [
    {
     "name": "stdout",
     "output_type": "stream",
     "text": [
      "8\n"
     ]
    }
   ],
   "source": [
    "x =5\n",
    "x+=3\n",
    "print(x)"
   ]
  },
  {
   "cell_type": "code",
   "execution_count": null,
   "id": "57e07f3d",
   "metadata": {},
   "outputs": [],
   "source": [
    " # comparator operator \n",
    "    \n",
    "\"\"\"\n",
    "equal : x==y\n",
    "not equal\n",
    "\n",
    "\"\"\""
   ]
  },
  {
   "cell_type": "code",
   "execution_count": 1,
   "id": "4869ab61",
   "metadata": {},
   "outputs": [
    {
     "name": "stdout",
     "output_type": "stream",
     "text": [
      "False\n",
      "True\n",
      "True\n",
      "False\n"
     ]
    }
   ],
   "source": [
    "x=5\n",
    "y=3\n",
    "\n",
    "print(x==y)\n",
    "print(x!=y)\n",
    "print(x>y)\n",
    "print(x<y)"
   ]
  },
  {
   "cell_type": "code",
   "execution_count": 3,
   "id": "b8ba0565",
   "metadata": {},
   "outputs": [
    {
     "name": "stdout",
     "output_type": "stream",
     "text": [
      "False\n",
      "True\n"
     ]
    }
   ],
   "source": [
    "x =5\n",
    "print(x<5 and x <10)\n",
    "print(x<5 or x <10)"
   ]
  },
  {
   "cell_type": "code",
   "execution_count": 4,
   "id": "b281c4af",
   "metadata": {},
   "outputs": [],
   "source": [
    "#member ship operator  in or not in \n",
    "\n",
    "x = \" this car is a cat\"\n"
   ]
  },
  {
   "cell_type": "code",
   "execution_count": 5,
   "id": "3e8a9023",
   "metadata": {},
   "outputs": [
    {
     "data": {
      "text/plain": [
       "True"
      ]
     },
     "execution_count": 5,
     "metadata": {},
     "output_type": "execute_result"
    }
   ],
   "source": [
    "\"cat\" in x"
   ]
  },
  {
   "cell_type": "code",
   "execution_count": 6,
   "id": "eed0a1b3",
   "metadata": {},
   "outputs": [
    {
     "data": {
      "text/plain": [
       "False"
      ]
     },
     "execution_count": 6,
     "metadata": {},
     "output_type": "execute_result"
    }
   ],
   "source": [
    "\"cat\" not in x"
   ]
  },
  {
   "cell_type": "code",
   "execution_count": 7,
   "id": "d0d62fb0",
   "metadata": {},
   "outputs": [],
   "source": [
    "# list \n",
    "a=[1,2,3,\"cat\",8,5]"
   ]
  },
  {
   "cell_type": "code",
   "execution_count": 8,
   "id": "ed747f55",
   "metadata": {},
   "outputs": [],
   "source": [
    "a.append(8)"
   ]
  },
  {
   "cell_type": "code",
   "execution_count": 9,
   "id": "df6a57ff",
   "metadata": {},
   "outputs": [
    {
     "data": {
      "text/plain": [
       "[1, 2, 3, 'cat', 8, 5, 8]"
      ]
     },
     "execution_count": 9,
     "metadata": {},
     "output_type": "execute_result"
    }
   ],
   "source": [
    "a"
   ]
  },
  {
   "cell_type": "code",
   "execution_count": 10,
   "id": "a19cd849",
   "metadata": {},
   "outputs": [],
   "source": [
    "a.extend([\"apple\", \"banana\"])"
   ]
  },
  {
   "cell_type": "code",
   "execution_count": 11,
   "id": "2f150c2c",
   "metadata": {},
   "outputs": [
    {
     "data": {
      "text/plain": [
       "[1, 2, 3, 'cat', 8, 5, 8, 'apple', 'banana']"
      ]
     },
     "execution_count": 11,
     "metadata": {},
     "output_type": "execute_result"
    }
   ],
   "source": [
    "a"
   ]
  },
  {
   "cell_type": "code",
   "execution_count": 12,
   "id": "c063edf1",
   "metadata": {},
   "outputs": [],
   "source": [
    "a.insert(-3, 25) # add "
   ]
  },
  {
   "cell_type": "code",
   "execution_count": 13,
   "id": "41c8c4c7",
   "metadata": {},
   "outputs": [
    {
     "data": {
      "text/plain": [
       "[1, 2, 3, 'cat', 8, 5, 25, 8, 'apple', 'banana']"
      ]
     },
     "execution_count": 13,
     "metadata": {},
     "output_type": "execute_result"
    }
   ],
   "source": [
    "a"
   ]
  },
  {
   "cell_type": "code",
   "execution_count": 16,
   "id": "b8eff7e8",
   "metadata": {},
   "outputs": [
    {
     "name": "stdout",
     "output_type": "stream",
     "text": [
      "apple\n"
     ]
    }
   ],
   "source": [
    "# pop remove et del and clear \n",
    "\n",
    "print(a.pop()) #remove the last element donc supprime banana\n",
    "\"\"\"\n",
    "pop() recoit aussi un argument de la position de l'element \n",
    "\"\"\""
   ]
  },
  {
   "cell_type": "code",
   "execution_count": 17,
   "id": "a0395c45",
   "metadata": {},
   "outputs": [
    {
     "data": {
      "text/plain": [
       "[1, 2, 3, 'cat', 8, 5, 25, 8]"
      ]
     },
     "execution_count": 17,
     "metadata": {},
     "output_type": "execute_result"
    }
   ],
   "source": [
    "a"
   ]
  },
  {
   "cell_type": "code",
   "execution_count": 19,
   "id": "5170727e",
   "metadata": {},
   "outputs": [],
   "source": [
    "# remove \n",
    "a.remove(\"cat\")"
   ]
  },
  {
   "cell_type": "code",
   "execution_count": 20,
   "id": "df90b8e7",
   "metadata": {},
   "outputs": [
    {
     "data": {
      "text/plain": [
       "[1, 2, 3, 8, 5, 25, 8]"
      ]
     },
     "execution_count": 20,
     "metadata": {},
     "output_type": "execute_result"
    }
   ],
   "source": [
    "a"
   ]
  },
  {
   "cell_type": "code",
   "execution_count": 24,
   "id": "82ae6488",
   "metadata": {},
   "outputs": [],
   "source": [
    "#delv:\n",
    "del a[2]  # position"
   ]
  },
  {
   "cell_type": "code",
   "execution_count": 25,
   "id": "3c8a0511",
   "metadata": {},
   "outputs": [
    {
     "data": {
      "text/plain": [
       "[1, 2, 8, 5, 25, 8]"
      ]
     },
     "execution_count": 25,
     "metadata": {},
     "output_type": "execute_result"
    }
   ],
   "source": [
    "a"
   ]
  },
  {
   "cell_type": "code",
   "execution_count": 29,
   "id": "a4d44b82",
   "metadata": {},
   "outputs": [],
   "source": [
    "b= [1,2,3,8,5,5,6,7,88,88]\n"
   ]
  },
  {
   "cell_type": "code",
   "execution_count": 30,
   "id": "3001a554",
   "metadata": {},
   "outputs": [],
   "source": [
    "b.remove(5)"
   ]
  },
  {
   "cell_type": "code",
   "execution_count": 31,
   "id": "21e18044",
   "metadata": {},
   "outputs": [
    {
     "data": {
      "text/plain": [
       "[1, 2, 3, 8, 5, 6, 7, 88, 88]"
      ]
     },
     "execution_count": 31,
     "metadata": {},
     "output_type": "execute_result"
    }
   ],
   "source": [
    "b"
   ]
  },
  {
   "cell_type": "code",
   "execution_count": 32,
   "id": "3ed9ad2b",
   "metadata": {},
   "outputs": [
    {
     "data": {
      "text/plain": [
       "['one', 'two', 3, 4, 'three', 'four', 3, 4]"
      ]
     },
     "execution_count": 32,
     "metadata": {},
     "output_type": "execute_result"
    }
   ],
   "source": [
    "# join to list \n",
    "list1= [\"one\",\"two\",3,4]\n",
    "list2= [\"three\",\"four\",3,4]\n",
    "list3 = list1+list2\n",
    "list3"
   ]
  },
  {
   "cell_type": "code",
   "execution_count": 43,
   "id": "f6734b7b",
   "metadata": {},
   "outputs": [],
   "source": [
    "list2.extend(list1)"
   ]
  },
  {
   "cell_type": "code",
   "execution_count": 45,
   "id": "a22884e8",
   "metadata": {},
   "outputs": [
    {
     "data": {
      "text/plain": [
       "[1, 2, 'cat', 'dog', 5]"
      ]
     },
     "execution_count": 45,
     "metadata": {},
     "output_type": "execute_result"
    }
   ],
   "source": [
    "# slicing\n",
    "\n",
    "list3=[1,2,\"cat\",\"dog\", 5,6]\n",
    "list3[0:5]"
   ]
  },
  {
   "cell_type": "code",
   "execution_count": 47,
   "id": "23731887",
   "metadata": {},
   "outputs": [
    {
     "data": {
      "text/plain": [
       "[1, 2, 'cat']"
      ]
     },
     "execution_count": 47,
     "metadata": {},
     "output_type": "execute_result"
    }
   ],
   "source": [
    "list3[0:3]"
   ]
  },
  {
   "cell_type": "code",
   "execution_count": 48,
   "id": "a9e00b13",
   "metadata": {},
   "outputs": [
    {
     "data": {
      "text/plain": [
       "[1, 2, 'cat', 'dog', 5, 6]"
      ]
     },
     "execution_count": 48,
     "metadata": {},
     "output_type": "execute_result"
    }
   ],
   "source": [
    "list3[:]"
   ]
  },
  {
   "cell_type": "code",
   "execution_count": 49,
   "id": "986b6559",
   "metadata": {},
   "outputs": [
    {
     "data": {
      "text/plain": [
       "[6, 5, 'dog', 'cat', 2, 1]"
      ]
     },
     "execution_count": 49,
     "metadata": {},
     "output_type": "execute_result"
    }
   ],
   "source": [
    "list3[::-1]"
   ]
  },
  {
   "cell_type": "code",
   "execution_count": 50,
   "id": "17f481c9",
   "metadata": {},
   "outputs": [],
   "source": [
    "list3.reverse()"
   ]
  },
  {
   "cell_type": "code",
   "execution_count": 51,
   "id": "2d362b02",
   "metadata": {},
   "outputs": [
    {
     "data": {
      "text/plain": [
       "[6, 5, 'dog', 'cat', 2, 1]"
      ]
     },
     "execution_count": 51,
     "metadata": {},
     "output_type": "execute_result"
    }
   ],
   "source": [
    "list3"
   ]
  },
  {
   "cell_type": "code",
   "execution_count": 52,
   "id": "5fb45b99",
   "metadata": {},
   "outputs": [],
   "source": [
    "# sorting \n",
    "list4=[1,2,3,78,9,63,15,14,23,1]"
   ]
  },
  {
   "cell_type": "code",
   "execution_count": 53,
   "id": "a0d6ffb2",
   "metadata": {},
   "outputs": [],
   "source": [
    "list4.sort()"
   ]
  },
  {
   "cell_type": "code",
   "execution_count": 54,
   "id": "a2cf2a7e",
   "metadata": {},
   "outputs": [
    {
     "data": {
      "text/plain": [
       "[1, 1, 2, 3, 9, 14, 15, 23, 63, 78]"
      ]
     },
     "execution_count": 54,
     "metadata": {},
     "output_type": "execute_result"
    }
   ],
   "source": [
    "list4"
   ]
  },
  {
   "cell_type": "code",
   "execution_count": 55,
   "id": "e10fd597",
   "metadata": {},
   "outputs": [],
   "source": [
    "list4.sort(reverse=True)"
   ]
  },
  {
   "cell_type": "code",
   "execution_count": 56,
   "id": "9788972e",
   "metadata": {},
   "outputs": [
    {
     "data": {
      "text/plain": [
       "[78, 63, 23, 15, 14, 9, 3, 2, 1, 1]"
      ]
     },
     "execution_count": 56,
     "metadata": {},
     "output_type": "execute_result"
    }
   ],
   "source": [
    "list4"
   ]
  },
  {
   "cell_type": "code",
   "execution_count": 1,
   "id": "d638bfdf",
   "metadata": {},
   "outputs": [],
   "source": [
    "# all/any\n",
    "l1=[1,2,3,4,5,6]"
   ]
  },
  {
   "cell_type": "markdown",
   "id": "ce4de9a8",
   "metadata": {},
   "source": [
    "# set : jour5 "
   ]
  },
  {
   "cell_type": "code",
   "execution_count": 2,
   "id": "e31369a2",
   "metadata": {},
   "outputs": [
    {
     "data": {
      "text/plain": [
       "{}"
      ]
     },
     "execution_count": 2,
     "metadata": {},
     "output_type": "execute_result"
    }
   ],
   "source": [
    "# not duplicate and unordered\n",
    "s1 = {}\n",
    "s1\n"
   ]
  },
  {
   "cell_type": "code",
   "execution_count": 3,
   "id": "64ad5d49",
   "metadata": {},
   "outputs": [
    {
     "data": {
      "text/plain": [
       "set()"
      ]
     },
     "execution_count": 3,
     "metadata": {},
     "output_type": "execute_result"
    }
   ],
   "source": [
    "s2 = set()\n",
    "s2"
   ]
  },
  {
   "cell_type": "code",
   "execution_count": 4,
   "id": "10a1e194",
   "metadata": {},
   "outputs": [
    {
     "data": {
      "text/plain": [
       "{1, 3, 6, 7, 8}"
      ]
     },
     "execution_count": 4,
     "metadata": {},
     "output_type": "execute_result"
    }
   ],
   "source": [
    "s3 = {1,3,6,7,8}\n",
    "s3"
   ]
  },
  {
   "cell_type": "code",
   "execution_count": 5,
   "id": "cd5a184a",
   "metadata": {},
   "outputs": [
    {
     "data": {
      "text/plain": [
       "{1.2, 2.5, 3.4, 5.6}"
      ]
     },
     "execution_count": 5,
     "metadata": {},
     "output_type": "execute_result"
    }
   ],
   "source": [
    "s4 ={1.2, 3.4, 5.6, 2.5}\n",
    "s4"
   ]
  },
  {
   "cell_type": "code",
   "execution_count": 7,
   "id": "1fed3ac8",
   "metadata": {},
   "outputs": [
    {
     "data": {
      "text/plain": [
       "{'four', 'one', 'three', 'two'}"
      ]
     },
     "execution_count": 7,
     "metadata": {},
     "output_type": "execute_result"
    }
   ],
   "source": [
    "s5 ={'one', 'two', 'three', 'four'}\n",
    "s5"
   ]
  },
  {
   "cell_type": "code",
   "execution_count": 8,
   "id": "041638c2",
   "metadata": {},
   "outputs": [
    {
     "data": {
      "text/plain": [
       "{('one', 'two'), (2.5, 6.7), 1, 4, 5}"
      ]
     },
     "execution_count": 8,
     "metadata": {},
     "output_type": "execute_result"
    }
   ],
   "source": [
    "s6 ={1,4,5, ('one','two'), (2.5,6.7)}\n",
    "s6"
   ]
  },
  {
   "cell_type": "code",
   "execution_count": 10,
   "id": "5ad17d91",
   "metadata": {},
   "outputs": [
    {
     "data": {
      "text/plain": [
       "True"
      ]
     },
     "execution_count": 10,
     "metadata": {},
     "output_type": "execute_result"
    }
   ],
   "source": [
    "'one' in s5"
   ]
  },
  {
   "cell_type": "code",
   "execution_count": 11,
   "id": "a97c1b56",
   "metadata": {},
   "outputs": [
    {
     "data": {
      "text/plain": [
       "False"
      ]
     },
     "execution_count": 11,
     "metadata": {},
     "output_type": "execute_result"
    }
   ],
   "source": [
    "'five' in s5"
   ]
  },
  {
   "cell_type": "markdown",
   "id": "c6a83fb4",
   "metadata": {},
   "source": [
    "# add, remove update discard , clear, and delete"
   ]
  },
  {
   "cell_type": "code",
   "execution_count": 12,
   "id": "71a21875",
   "metadata": {},
   "outputs": [
    {
     "data": {
      "text/plain": [
       "{1, 2, 2.5, 3, 5.6, 'one', 'tho'}"
      ]
     },
     "execution_count": 12,
     "metadata": {},
     "output_type": "execute_result"
    }
   ],
   "source": [
    "se ={1,2,3,2.5,5.6,'one', 'tho'}\n",
    "se"
   ]
  },
  {
   "cell_type": "code",
   "execution_count": 14,
   "id": "6b660cad",
   "metadata": {},
   "outputs": [
    {
     "data": {
      "text/plain": [
       "{1, 2, 2.5, 3, 5.6, 9, 'one', 'tho'}"
      ]
     },
     "execution_count": 14,
     "metadata": {},
     "output_type": "execute_result"
    }
   ],
   "source": [
    "# add\n",
    "se.add(9)\n",
    "se"
   ]
  },
  {
   "cell_type": "code",
   "execution_count": 16,
   "id": "c67104a2",
   "metadata": {},
   "outputs": [
    {
     "data": {
      "text/plain": [
       "{1, 10, 12, 2, 2.5, 3, 5.6, 9, 'date', 'one', 'tho'}"
      ]
     },
     "execution_count": 16,
     "metadata": {},
     "output_type": "execute_result"
    }
   ],
   "source": [
    "# update \n",
    "se.update([10,12,'date'])\n",
    "se"
   ]
  },
  {
   "cell_type": "code",
   "execution_count": 17,
   "id": "7b4c38be",
   "metadata": {},
   "outputs": [
    {
     "data": {
      "text/plain": [
       "{1, 10, 12, 2, 2.5, 3, 9, 'date', 'one', 'tho'}"
      ]
     },
     "execution_count": 17,
     "metadata": {},
     "output_type": "execute_result"
    }
   ],
   "source": [
    "# remove \n",
    "se.remove(5.6)\n",
    "se"
   ]
  },
  {
   "cell_type": "code",
   "execution_count": 18,
   "id": "3976d0d8",
   "metadata": {},
   "outputs": [
    {
     "data": {
      "text/plain": [
       "{1, 10, 12, 2, 2.5, 3, 9, 'date', 'tho'}"
      ]
     },
     "execution_count": 18,
     "metadata": {},
     "output_type": "execute_result"
    }
   ],
   "source": [
    "# discard\n",
    "se.discard(\"one\")\n",
    "se"
   ]
  },
  {
   "cell_type": "code",
   "execution_count": 20,
   "id": "58a55233",
   "metadata": {},
   "outputs": [
    {
     "data": {
      "text/plain": [
       "set()"
      ]
     },
     "execution_count": 20,
     "metadata": {},
     "output_type": "execute_result"
    }
   ],
   "source": [
    "# clear \n",
    "se.clear()\n",
    "se"
   ]
  },
  {
   "cell_type": "markdown",
   "id": "565d7403",
   "metadata": {},
   "source": [
    "# set operation : union, intersection, difference"
   ]
  },
  {
   "cell_type": "raw",
   "id": "07b71542",
   "metadata": {},
   "source": [
    "- union\n",
    "-Intersection\n",
    "-Difference"
   ]
  },
  {
   "cell_type": "code",
   "execution_count": 22,
   "id": "57b5d92a",
   "metadata": {},
   "outputs": [],
   "source": [
    "a ={1,2,3,4,5,6,7,8}\n",
    "b= {3,5,6,10,11,14,15}"
   ]
  },
  {
   "cell_type": "code",
   "execution_count": 23,
   "id": "f44c1054",
   "metadata": {},
   "outputs": [
    {
     "data": {
      "text/plain": [
       "{1, 2, 3, 4, 5, 6, 7, 8, 10, 11, 14, 15}"
      ]
     },
     "execution_count": 23,
     "metadata": {},
     "output_type": "execute_result"
    }
   ],
   "source": [
    "# union \n",
    "a.union(b)"
   ]
  },
  {
   "cell_type": "code",
   "execution_count": 24,
   "id": "e7c0d946",
   "metadata": {},
   "outputs": [
    {
     "data": {
      "text/plain": [
       "{3, 5, 6}"
      ]
     },
     "execution_count": 24,
     "metadata": {},
     "output_type": "execute_result"
    }
   ],
   "source": [
    "# Intersection \n",
    "a.intersection(b)"
   ]
  },
  {
   "cell_type": "code",
   "execution_count": 25,
   "id": "f4fc1868",
   "metadata": {},
   "outputs": [
    {
     "data": {
      "text/plain": [
       "{1, 2, 4, 7, 8}"
      ]
     },
     "execution_count": 25,
     "metadata": {},
     "output_type": "execute_result"
    }
   ],
   "source": [
    "# difference\n",
    "a.difference(b)"
   ]
  },
  {
   "cell_type": "code",
   "execution_count": 26,
   "id": "df1a04f4",
   "metadata": {},
   "outputs": [
    {
     "data": {
      "text/plain": [
       "{10, 11, 14, 15}"
      ]
     },
     "execution_count": 26,
     "metadata": {},
     "output_type": "execute_result"
    }
   ],
   "source": [
    "b.difference(a)"
   ]
  },
  {
   "cell_type": "markdown",
   "id": "06b4de08",
   "metadata": {},
   "source": [
    "# Dictionnary"
   ]
  },
  {
   "cell_type": "raw",
   "id": "9a2716db",
   "metadata": {},
   "source": [
    "Dictionnary is \n",
    "- consist of key and valu separated by : and placed in {}\n",
    "    key should be always unique \n",
    "    - unorderd\n",
    "    - keys are immutable whereas valus are mutable"
   ]
  },
  {
   "cell_type": "markdown",
   "id": "fe2ec8ba",
   "metadata": {},
   "source": [
    "#dictinnary \n",
    "my = dict()\n",
    "my"
   ]
  },
  {
   "cell_type": "code",
   "execution_count": 30,
   "id": "2642239c",
   "metadata": {},
   "outputs": [
    {
     "data": {
      "text/plain": [
       "dict"
      ]
     },
     "execution_count": 30,
     "metadata": {},
     "output_type": "execute_result"
    }
   ],
   "source": [
    "type(my)"
   ]
  },
  {
   "cell_type": "code",
   "execution_count": 33,
   "id": "542cb4c5",
   "metadata": {},
   "outputs": [
    {
     "data": {
      "text/plain": [
       "{'a': 1, 'b': 2, 'c': 3}"
      ]
     },
     "execution_count": 33,
     "metadata": {},
     "output_type": "execute_result"
    }
   ],
   "source": [
    "my = dict({'a':1, 'b':2, 'c':3})\n",
    "my"
   ]
  },
  {
   "cell_type": "code",
   "execution_count": 34,
   "id": "eb3da03f",
   "metadata": {},
   "outputs": [
    {
     "data": {
      "text/plain": [
       "dict_keys(['a', 'b', 'c'])"
      ]
     },
     "execution_count": 34,
     "metadata": {},
     "output_type": "execute_result"
    }
   ],
   "source": [
    "# Access key\n",
    "my.keys()"
   ]
  },
  {
   "cell_type": "code",
   "execution_count": 35,
   "id": "9a0a7234",
   "metadata": {},
   "outputs": [
    {
     "data": {
      "text/plain": [
       "dict_values([1, 2, 3])"
      ]
     },
     "execution_count": 35,
     "metadata": {},
     "output_type": "execute_result"
    }
   ],
   "source": [
    "# access values\n",
    "my.values()"
   ]
  },
  {
   "cell_type": "code",
   "execution_count": 36,
   "id": "b61659e6",
   "metadata": {},
   "outputs": [
    {
     "data": {
      "text/plain": [
       "dict_items([('a', 1), ('b', 2), ('c', 3)])"
      ]
     },
     "execution_count": 36,
     "metadata": {},
     "output_type": "execute_result"
    }
   ],
   "source": [
    "my.items()"
   ]
  },
  {
   "cell_type": "code",
   "execution_count": 42,
   "id": "cc60bf71",
   "metadata": {},
   "outputs": [],
   "source": [
    "my3 = {1: 'one', 2:'two', 3: ['data', 'python', 'maria']}\n"
   ]
  },
  {
   "cell_type": "code",
   "execution_count": 44,
   "id": "940a7f60",
   "metadata": {},
   "outputs": [
    {
     "data": {
      "text/plain": [
       "'maria'"
      ]
     },
     "execution_count": 44,
     "metadata": {},
     "output_type": "execute_result"
    }
   ],
   "source": [
    "my3[3][2]"
   ]
  },
  {
   "cell_type": "markdown",
   "id": "dd510457",
   "metadata": {},
   "source": [
    "# Add ,Remove, and Change of elements"
   ]
  },
  {
   "cell_type": "code",
   "execution_count": 51,
   "id": "5e8a4eab",
   "metadata": {},
   "outputs": [],
   "source": [
    "mydict1 = {'Name':'data', 'ID': 12345, 'DOB': 1991, 'Address': 'Hitech'}"
   ]
  },
  {
   "cell_type": "code",
   "execution_count": 52,
   "id": "a7e4284c",
   "metadata": {},
   "outputs": [
    {
     "data": {
      "text/plain": [
       "{'Name': 'data', 'ID': 12345, 'DOB': 1991, 'Address': 'Hitech'}"
      ]
     },
     "execution_count": 52,
     "metadata": {},
     "output_type": "execute_result"
    }
   ],
   "source": [
    "mydict1"
   ]
  },
  {
   "cell_type": "markdown",
   "id": "224c3653",
   "metadata": {},
   "source": [
    "# If conditionnal statement"
   ]
  },
  {
   "cell_type": "code",
   "execution_count": 53,
   "id": "972ca41f",
   "metadata": {},
   "outputs": [],
   "source": [
    "# if , else and elif\n"
   ]
  },
  {
   "cell_type": "code",
   "execution_count": 54,
   "id": "cfafb1e1",
   "metadata": {},
   "outputs": [
    {
     "name": "stdout",
     "output_type": "stream",
     "text": [
      "yes a is greater than 3\n"
     ]
    }
   ],
   "source": [
    "a= 8\n",
    "if a> 6:\n",
    "    print('yes a is greater than 3')"
   ]
  },
  {
   "cell_type": "code",
   "execution_count": 55,
   "id": "f8685663",
   "metadata": {},
   "outputs": [
    {
     "name": "stdout",
     "output_type": "stream",
     "text": [
      "yes a is equal to 8\n"
     ]
    }
   ],
   "source": [
    "a=8\n",
    "if a ==8:\n",
    "    print('yes a is equal to 8')"
   ]
  },
  {
   "cell_type": "code",
   "execution_count": 57,
   "id": "33d12b2d",
   "metadata": {},
   "outputs": [],
   "source": [
    "x= 5\n",
    "if x>6:\n",
    "    print(\"5 is biggesr than 4\")\n",
    "    print('im in in block')"
   ]
  },
  {
   "cell_type": "code",
   "execution_count": 58,
   "id": "7be48352",
   "metadata": {},
   "outputs": [
    {
     "name": "stdout",
     "output_type": "stream",
     "text": [
      "condition is false\n"
     ]
    }
   ],
   "source": [
    "x= 5\n",
    "if x>4:\n",
    "    print(\"condition is false\")"
   ]
  },
  {
   "cell_type": "code",
   "execution_count": 59,
   "id": "8318c9bc",
   "metadata": {},
   "outputs": [
    {
     "name": "stdout",
     "output_type": "stream",
     "text": [
      "i'am in if block\n"
     ]
    }
   ],
   "source": [
    "x=11\n",
    "if (x>10):\n",
    "    print(\"i'am in if block\")\n",
    "    "
   ]
  },
  {
   "cell_type": "markdown",
   "id": "747e3283",
   "metadata": {},
   "source": [
    "# INput function"
   ]
  },
  {
   "cell_type": "code",
   "execution_count": 61,
   "id": "08bced51",
   "metadata": {},
   "outputs": [
    {
     "name": "stdout",
     "output_type": "stream",
     "text": [
      "entrer une valeur45\n"
     ]
    }
   ],
   "source": [
    "a = input(\"entrer une valeur\")"
   ]
  },
  {
   "cell_type": "code",
   "execution_count": 63,
   "id": "76f1668b",
   "metadata": {},
   "outputs": [
    {
     "data": {
      "text/plain": [
       "str"
      ]
     },
     "execution_count": 63,
     "metadata": {},
     "output_type": "execute_result"
    }
   ],
   "source": [
    "type(a)"
   ]
  },
  {
   "cell_type": "code",
   "execution_count": 64,
   "id": "ccf3ab11",
   "metadata": {},
   "outputs": [
    {
     "name": "stdout",
     "output_type": "stream",
     "text": [
      "entre votre nommamam\n"
     ]
    }
   ],
   "source": [
    "nom =input(\"entre votre nom\")"
   ]
  },
  {
   "cell_type": "code",
   "execution_count": 65,
   "id": "49d5b36f",
   "metadata": {},
   "outputs": [
    {
     "data": {
      "text/plain": [
       "str"
      ]
     },
     "execution_count": 65,
     "metadata": {},
     "output_type": "execute_result"
    }
   ],
   "source": [
    "type(nom)"
   ]
  },
  {
   "cell_type": "code",
   "execution_count": 66,
   "id": "2a44f972",
   "metadata": {},
   "outputs": [
    {
     "name": "stdout",
     "output_type": "stream",
     "text": [
      "donne une valeur valeur45\n"
     ]
    }
   ],
   "source": [
    "valeur_int = int(input(\"donne une valeur valeur\"))"
   ]
  },
  {
   "cell_type": "code",
   "execution_count": 67,
   "id": "c4ff006b",
   "metadata": {},
   "outputs": [
    {
     "name": "stdout",
     "output_type": "stream",
     "text": [
      "entre value12\n",
      "i'am in if block\n"
     ]
    }
   ],
   "source": [
    "x = int(input(\"entre value\"))\n",
    "if (x>10):\n",
    "    print(\"i'am in if block\")\n",
    "elif (x==6):\n",
    "    print(\"i'am in elif block\")\n",
    "elif(x==0):\n",
    "    print(\"number is zero\")\n",
    "else: \n",
    "    print(\"i'am in else block\")"
   ]
  },
  {
   "cell_type": "code",
   "execution_count": 69,
   "id": "86178ef4",
   "metadata": {},
   "outputs": [
    {
     "name": "stdout",
     "output_type": "stream",
     "text": [
      "im the first block\n",
      "im the second block\n"
     ]
    }
   ],
   "source": [
    "# Nesting \n",
    "x=5\n",
    "if (x>=5):\n",
    "    print(\"im the first block\")\n",
    "    if (x>2):\n",
    "        print(\"im the second block\")\n",
    "        if (x==4):\n",
    "            print(\"im in the third block\")"
   ]
  },
  {
   "cell_type": "code",
   "execution_count": 73,
   "id": "8ea125ed",
   "metadata": {},
   "outputs": [
    {
     "name": "stdout",
     "output_type": "stream",
     "text": [
      "entrer la valeur5\n",
      "im the first block\n",
      "im the second block\n"
     ]
    }
   ],
   "source": [
    "x = int(input(\"entrer la valeur\"))\n",
    "if (x>=5):\n",
    "    print(\"im the first block\")\n",
    "    if (x>2):\n",
    "        print(\"im the second block\")\n",
    "        if (x==4):\n",
    "            print(\"im in the third block\")"
   ]
  },
  {
   "cell_type": "code",
   "execution_count": 75,
   "id": "1e075645",
   "metadata": {},
   "outputs": [
    {
     "name": "stdout",
     "output_type": "stream",
     "text": [
      "entrer une valeur10\n",
      "a is even multiple number\n",
      "a is multipleof 5\n"
     ]
    }
   ],
   "source": [
    "a= int(input(\"entrer une valeur\"))\n",
    "if a%2==0:\n",
    "    print(\"a is even multiple number\")\n",
    "    if a%3==0:\n",
    "        print(\"a is multiple of 3\")\n",
    "        \n",
    "    elif a%5==0:\n",
    "        print(\"a is multipleof 5\")\n",
    "    else:\n",
    "        print(\"i'am in else block\")\n",
    "\n",
    "\n"
   ]
  },
  {
   "cell_type": "markdown",
   "id": "d0583291",
   "metadata": {},
   "source": [
    "# Loops in python"
   ]
  },
  {
   "cell_type": "raw",
   "id": "c6ea784d",
   "metadata": {},
   "source": [
    " - for loops are used to loop "
   ]
  },
  {
   "cell_type": "code",
   "execution_count": 1,
   "id": "05b6d97f",
   "metadata": {},
   "outputs": [
    {
     "name": "stdout",
     "output_type": "stream",
     "text": [
      "hello\n",
      "hello\n",
      "hello\n"
     ]
    }
   ],
   "source": [
    "for i in range(3):\n",
    "    print(\"hello\")"
   ]
  },
  {
   "cell_type": "code",
   "execution_count": 5,
   "id": "c1a5a9b3",
   "metadata": {},
   "outputs": [
    {
     "name": "stdout",
     "output_type": "stream",
     "text": [
      "['hi', 'by']\n",
      "['hi', 'by']\n",
      "anselme\n"
     ]
    }
   ],
   "source": [
    "a= [\"hi\",\"by\"]\n",
    "for i in a :\n",
    "    print(a)\n",
    "print(\"anselme\")"
   ]
  },
  {
   "cell_type": "code",
   "execution_count": null,
   "id": "61f85a70",
   "metadata": {},
   "outputs": [],
   "source": [
    "snacks =# Nested loops \n"
   ]
  },
  {
   "cell_type": "code",
   "execution_count": 9,
   "id": "e6726c52",
   "metadata": {},
   "outputs": [
    {
     "name": "stdout",
     "output_type": "stream",
     "text": [
      "0\n",
      "2\n",
      "4\n",
      "6\n",
      "8\n",
      "10\n",
      "12\n",
      "14\n",
      "16\n",
      "18\n"
     ]
    }
   ],
   "source": [
    "for i in range(0,20,2):\n",
    "    print(i)"
   ]
  },
  {
   "cell_type": "code",
   "execution_count": 12,
   "id": "34e60c71",
   "metadata": {
    "scrolled": true
   },
   "outputs": [
    {
     "name": "stdout",
     "output_type": "stream",
     "text": [
      "red apple\n",
      "red banana\n",
      "red orange\n",
      "blue apple\n",
      "blue banana\n",
      "blue orange\n",
      "green apple\n",
      "green banana\n",
      "green orange\n"
     ]
    }
   ],
   "source": [
    "#Nested loops \n",
    "a= ['red', 'blue', 'green']\n",
    "b= ['apple', 'banana', 'orange']\n",
    "for i in a:\n",
    "    for j in b:\n",
    "        print(i,j)"
   ]
  },
  {
   "cell_type": "code",
   "execution_count": 16,
   "id": "fbf43e3d",
   "metadata": {},
   "outputs": [
    {
     "name": "stdout",
     "output_type": "stream",
     "text": [
      "1 is not\n",
      "2 is even\n",
      "3 is not\n",
      "4 is even\n",
      "5 is not\n",
      "6 is even\n",
      "7 is not\n",
      "8 is even\n",
      "9 is not\n",
      "0 is even\n",
      "11 is not\n",
      "0 is even\n",
      "12 is even\n",
      "24 is even\n",
      "55 is not\n",
      "47 is not\n"
     ]
    }
   ],
   "source": [
    "l= [1,2,3,4,5,6,7,8,9,0,11,0,12,24,55,47]\n",
    "for k in l:\n",
    "    if k%2==0:\n",
    "        print(k, \"is even\")\n",
    "    else:\n",
    "        print(k, \"is not\")"
   ]
  },
  {
   "cell_type": "code",
   "execution_count": null,
   "id": "b32cf60b",
   "metadata": {},
   "outputs": [],
   "source": [
    "i<6\n",
    "while i<6:\n",
    "    if i==3:\n",
    "        break\n",
    "    1=i+1\n",
    "    "
   ]
  },
  {
   "cell_type": "code",
   "execution_count": null,
   "id": "dfbf65dd",
   "metadata": {},
   "outputs": [],
   "source": [
    "i=0\n",
    "while i<6:\n",
    "    i=i+1\n",
    "    if i==3:\n",
    "       \n",
    "    print(i)"
   ]
  },
  {
   "cell_type": "code",
   "execution_count": null,
   "id": "d2f6ff9a",
   "metadata": {},
   "outputs": [],
   "source": [
    "# https://drive.google.com/drive/folders/1tx4zlrkld2m41Yd35g80PWjSYkhyeYPM?usp=drive_link"
   ]
  },
  {
   "cell_type": "code",
   "execution_count": 1,
   "id": "13dcf1e7",
   "metadata": {},
   "outputs": [
    {
     "name": "stdout",
     "output_type": "stream",
     "text": [
      "hello\n"
     ]
    }
   ],
   "source": [
    "# syntaxe defintion of function\n",
    "def name():\n",
    "    print(\"hello\")\n",
    "name()"
   ]
  },
  {
   "cell_type": "code",
   "execution_count": 3,
   "id": "1d26bb0f",
   "metadata": {},
   "outputs": [
    {
     "data": {
      "text/plain": [
       "9"
      ]
     },
     "execution_count": 3,
     "metadata": {},
     "output_type": "execute_result"
    }
   ],
   "source": [
    "def squrredofnum(a):\n",
    "    return a**2\n",
    "squrredofnum(3)"
   ]
  },
  {
   "cell_type": "code",
   "execution_count": 4,
   "id": "65e6deb3",
   "metadata": {},
   "outputs": [
    {
     "data": {
      "text/plain": [
       "11"
      ]
     },
     "execution_count": 4,
     "metadata": {},
     "output_type": "execute_result"
    }
   ],
   "source": [
    "def addnum(a,b):\n",
    "    return a+b\n",
    "addnum(2,9)"
   ]
  },
  {
   "cell_type": "markdown",
   "id": "ca0e17a0",
   "metadata": {},
   "source": [
    "# Lambda Function"
   ]
  },
  {
   "cell_type": "code",
   "execution_count": 6,
   "id": "a80b3cf3",
   "metadata": {},
   "outputs": [
    {
     "name": "stdout",
     "output_type": "stream",
     "text": [
      "27\n"
     ]
    }
   ],
   "source": [
    "product = lambda a, b: a*b\n",
    "print(product(3,9))"
   ]
  },
  {
   "cell_type": "code",
   "execution_count": 8,
   "id": "d4957a9e",
   "metadata": {},
   "outputs": [
    {
     "name": "stdout",
     "output_type": "stream",
     "text": [
      "60\n"
     ]
    }
   ],
   "source": [
    "addition = lambda a: a+56\n",
    "print(addition(4))"
   ]
  },
  {
   "cell_type": "markdown",
   "id": "b84ea1a3",
   "metadata": {},
   "source": [
    "# Filter Function "
   ]
  },
  {
   "cell_type": "code",
   "execution_count": 11,
   "id": "0eb37dbe",
   "metadata": {},
   "outputs": [
    {
     "name": "stdout",
     "output_type": "stream",
     "text": [
      "[2, 8, 10, 12]\n"
     ]
    }
   ],
   "source": [
    "num = [2,3,5,7,8,9,10,12,13]\n",
    "evens = list(filter(lambda n: n%2==0,num))\n",
    "print(evens)"
   ]
  },
  {
   "cell_type": "code",
   "execution_count": 12,
   "id": "1a015372",
   "metadata": {},
   "outputs": [
    {
     "name": "stdout",
     "output_type": "stream",
     "text": [
      "[2, 3, 5, 7, 8, 9, 10, 12, 13]\n"
     ]
    }
   ],
   "source": [
    "odds = [2,3,5,7,8,9,10,12,13]\n",
    "evens = list(filter(lambda n: n%2!=0,num))\n",
    "print(odds)"
   ]
  },
  {
   "cell_type": "markdown",
   "id": "b8026fe0",
   "metadata": {},
   "source": [
    "# Reduce "
   ]
  },
  {
   "cell_type": "code",
   "execution_count": 1,
   "id": "67190f31",
   "metadata": {},
   "outputs": [
    {
     "ename": "ModuleNotFoundError",
     "evalue": "No module named 'functiontools'",
     "output_type": "error",
     "traceback": [
      "\u001b[0;31m---------------------------------------------------------------------------\u001b[0m",
      "\u001b[0;31mModuleNotFoundError\u001b[0m                       Traceback (most recent call last)",
      "Cell \u001b[0;32mIn[1], line 1\u001b[0m\n\u001b[0;32m----> 1\u001b[0m \u001b[38;5;28;01mfrom\u001b[39;00m \u001b[38;5;21;01mfunctiontools\u001b[39;00m \u001b[38;5;28;01mimport\u001b[39;00m reduce\n",
      "\u001b[0;31mModuleNotFoundError\u001b[0m: No module named 'functiontools'"
     ]
    }
   ],
   "source": [
    "from functiontools import reduce"
   ]
  },
  {
   "cell_type": "code",
   "execution_count": 15,
   "id": "d0b8eefb",
   "metadata": {},
   "outputs": [
    {
     "name": "stdout",
     "output_type": "stream",
     "text": [
      "Note: you may need to restart the kernel to use updated packages.\n"
     ]
    },
    {
     "name": "stderr",
     "output_type": "stream",
     "text": [
      "ERROR: Could not find a version that satisfies the requirement functiontools (from versions: none)\n",
      "ERROR: No matching distribution found for functiontools\n"
     ]
    }
   ],
   "source": [
    "pip install functiontools"
   ]
  },
  {
   "cell_type": "code",
   "execution_count": 16,
   "id": "c0e069c4",
   "metadata": {},
   "outputs": [],
   "source": [
    "from datetime import date"
   ]
  },
  {
   "cell_type": "code",
   "execution_count": 17,
   "id": "0f53deb6",
   "metadata": {},
   "outputs": [],
   "source": [
    "my_date = date(2024,2,4)"
   ]
  },
  {
   "cell_type": "code",
   "execution_count": 18,
   "id": "217f3d4e",
   "metadata": {},
   "outputs": [
    {
     "data": {
      "text/plain": [
       "datetime.date(2024, 2, 4)"
      ]
     },
     "execution_count": 18,
     "metadata": {},
     "output_type": "execute_result"
    }
   ],
   "source": [
    "\n",
    "my_date"
   ]
  },
  {
   "cell_type": "code",
   "execution_count": 19,
   "id": "7e938b42",
   "metadata": {},
   "outputs": [],
   "source": [
    "today1 =date.today()"
   ]
  },
  {
   "cell_type": "code",
   "execution_count": 20,
   "id": "8fc3db59",
   "metadata": {},
   "outputs": [
    {
     "data": {
      "text/plain": [
       "datetime.date(2024, 2, 4)"
      ]
     },
     "execution_count": 20,
     "metadata": {},
     "output_type": "execute_result"
    }
   ],
   "source": [
    "today1"
   ]
  },
  {
   "cell_type": "code",
   "execution_count": 2,
   "id": "2dc05e77",
   "metadata": {},
   "outputs": [],
   "source": [
    "\n",
    "#sum the numbers from 1 to 20 using for loop\n",
    "\n"
   ]
  },
  {
   "cell_type": "code",
   "execution_count": null,
   "id": "0b4fd916",
   "metadata": {},
   "outputs": [],
   "source": [
    "number= 20\n",
    "while (number<0):\n",
    "    resul"
   ]
  }
 ],
 "metadata": {
  "kernelspec": {
   "display_name": "Python 3 (ipykernel)",
   "language": "python",
   "name": "python3"
  },
  "language_info": {
   "codemirror_mode": {
    "name": "ipython",
    "version": 3
   },
   "file_extension": ".py",
   "mimetype": "text/x-python",
   "name": "python",
   "nbconvert_exporter": "python",
   "pygments_lexer": "ipython3",
   "version": "3.11.3"
  }
 },
 "nbformat": 4,
 "nbformat_minor": 5
}
